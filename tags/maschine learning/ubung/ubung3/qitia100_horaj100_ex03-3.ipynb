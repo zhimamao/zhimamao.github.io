{
 "cells": [
  {
   "cell_type": "markdown",
   "metadata": {},
   "source": [
    "ex3.1"
   ]
  },
  {
   "cell_type": "code",
   "execution_count": null,
   "metadata": {},
   "outputs": [],
   "source": [
    "from scipy.integrate import quad,dblquad\n",
    "import scipy.integrate as integrate"
   ]
  },
  {
   "cell_type": "code",
   "execution_count": null,
   "metadata": {},
   "outputs": [],
   "source": [
    "a = sc.special.beta(91,11)\n",
    "b = sc.special.beta(3,1)\n",
    "print(a)\n",
    "def fun(a,b):\n",
    "    print a*b\n",
    "#1\n",
    "#q = si.dblquad(fun,0,1,0,1 )"
   ]
  },
  {
   "cell_type": "markdown",
   "metadata": {},
   "source": [
    "3.2\n"
   ]
  },
  {
   "cell_type": "code",
   "execution_count": null,
   "metadata": {},
   "outputs": [],
   "source": [
    "a1,b1,a2,b2 = 91,11,3,1\n",
    "def f1(x1):\n",
    "    return 1/sc.beta(a1,b1)*x1**(a1-1)*(1-x1)**(b1-1)\n",
    "def f2(x2):\n",
    "    return 1/sc.beta(a2,b2)*x2**(a2-1)*(1-x2)**(b2-1)\n",
    "#原函数\n",
    "def f(x1,x2):\n",
    "    f = f1*f2\n",
    "#导函数\n",
    "def f_x(x1,x2):\n",
    "#积分区间\n",
    "upper_bound=1\n",
    "lower_bound=0\n",
    "#生成随机数，用蒙特卡洛方法计算定积分\n",
    "DefiniteIntegral_By_MonteCarloMethod=0\n",
    "sum=0\n",
    "count=1\n",
    "while count<=10000:\n",
    "    sum=sum+f_x_(random.uniform(lower_bound,upper_bound))\n",
    "    count=count+1\n",
    "DefiniteIntegral_By_MonteCarloMethod=(upper_bound-lower_bound)*(sum/10000)\n",
    "print(\"用蒙特卡洛方法计算的定积分：\")\n",
    "print(DefiniteIntegral_By_MonteCarloMethod)"
   ]
  }
 ],
 "metadata": {
  "kernelspec": {
   "display_name": "Python 3.10.6 64-bit",
   "language": "python",
   "name": "python3"
  },
  "language_info": {
   "codemirror_mode": {
    "name": "ipython",
    "version": 3
   },
   "file_extension": ".py",
   "mimetype": "text/x-python",
   "name": "python",
   "nbconvert_exporter": "python",
   "pygments_lexer": "ipython3",
   "version": "3.10.6"
  },
  "orig_nbformat": 4,
  "vscode": {
   "interpreter": {
    "hash": "369f2c481f4da34e4445cda3fffd2e751bd1c4d706f27375911949ba6bb62e1c"
   }
  }
 },
 "nbformat": 4,
 "nbformat_minor": 2
}
