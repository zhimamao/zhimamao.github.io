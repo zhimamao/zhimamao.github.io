{
 "cells": [
  {
   "cell_type": "markdown",
   "metadata": {},
   "source": [
    "Ex2"
   ]
  },
  {
   "cell_type": "markdown",
   "metadata": {},
   "source": [
    "1.Write a Python function center_with_matrix(data) that subtracts the row-wise mean from the input array data by multiplying with the centering matrix"
   ]
  },
  {
   "cell_type": "code",
   "execution_count": 214,
   "metadata": {},
   "outputs": [],
   "source": [
    "import numpy as np\n",
    "#create NumPy array\n",
    "data = np.array([4, 6, 9, 13, 14, 17, 18, 19, 19, 21])\n",
    "\n"
   ]
  },
  {
   "cell_type": "code",
   "execution_count": 215,
   "metadata": {},
   "outputs": [],
   "source": [
    "def avg(data):\n",
    "    return float(sum(data))/len(data)"
   ]
  },
  {
   "cell_type": "code",
   "execution_count": 216,
   "metadata": {},
   "outputs": [
    {
     "name": "stdout",
     "output_type": "stream",
     "text": [
      "[-10.  -8.  -5.  -1.   0.   3.   4.   5.   5.   7.]\n"
     ]
    }
   ],
   "source": [
    "#create function to center data\n",
    "center_with_matrix = lambda x: x - avg(data)\n",
    "#apply function to original NumPy array\n",
    "data_centered1 = center_with_matrix(data)\n",
    "#view updated Array\n",
    "print(data_centered1)\n"
   ]
  },
  {
   "cell_type": "code",
   "execution_count": 217,
   "metadata": {},
   "outputs": [
    {
     "name": "stdout",
     "output_type": "stream",
     "text": [
      "0.0\n"
     ]
    }
   ],
   "source": [
    "#display mean of centered array\n",
    "print(data_centered1.mean())"
   ]
  },
  {
   "cell_type": "markdown",
   "metadata": {},
   "source": [
    "2.\tWrite a Python function centering_with_numpy(data) that performs the same operation using basic NumPy-functions.\n"
   ]
  },
  {
   "cell_type": "code",
   "execution_count": 218,
   "metadata": {},
   "outputs": [
    {
     "name": "stdout",
     "output_type": "stream",
     "text": [
      "[-10.  -8.  -5.  -1.   0.   3.   4.   5.   5.   7.]\n"
     ]
    }
   ],
   "source": [
    "centering_with_numpy = lambda x: x - np.mean(x, axis=0)\n",
    "\n",
    "#apply function to original NumPy array\n",
    "data_centered2 = centering_with_numpy(data)\n",
    "\n",
    "print(data_centered2)\n"
   ]
  },
  {
   "cell_type": "markdown",
   "metadata": {},
   "source": [
    "3.Sample random data matrices with uniformly distributed entries with 10 rows and a di藱erent number of columns. Plot the number of columns of the data matrix against the elapsed runtime for both functions. Also add a legend to your plot."
   ]
  },
  {
   "cell_type": "code",
   "execution_count": 219,
   "metadata": {},
   "outputs": [
    {
     "name": "stdout",
     "output_type": "stream",
     "text": [
      "[[7020 6899 4774 6673 1752  209 8195 4236 5005]\n",
      " [2639 1222 9422   79 8540 9689 3065 5582 9892]\n",
      " [8740 6063 4118 2118 2788 7669 6968 2878 7429]\n",
      " [9351 9136 5132 2345 4072 8284 6267 1015 7462]\n",
      " [9767 9319 8017 9568 3412 2774 7200 6604 9312]\n",
      " [4805 4709 9396 7321 8991 5405 3594 8217 7785]\n",
      " [2590 5219 3510 7186 4235 8591 8528 7437 3558]\n",
      " [8912 9986  750 1949 2518 8254 1777 1196 5486]\n",
      " [5995  178 6563 2876 6243 6510 9838 3998 5671]\n",
      " [3205 9946 2906 9372  694 4970 3600 5004 9347]]\n"
     ]
    }
   ],
   "source": [
    "import time\n",
    "import copy\n",
    "def columns(x):\n",
    "   data1 =  np.random.randint(0,9999,(10,x))\n",
    "   return data1\n",
    "print(columns(9))"
   ]
  },
  {
   "cell_type": "code",
   "execution_count": 220,
   "metadata": {},
   "outputs": [],
   "source": [
    "def ex1():\n",
    " for x in range(2,1000):\n",
    "   start = time.time()\n",
    "   data_centered3 = center_with_matrix(columns(x))\n",
    "   #print(data_centered3)\n",
    "   end = time.time()\n",
    "   run1 = end - start\n",
    " return run1\n",
    "#print (ex1())"
   ]
  },
  {
   "cell_type": "code",
   "execution_count": 233,
   "metadata": {},
   "outputs": [],
   "source": [
    "def ex2():\n",
    " for x in range(2,1000):\n",
    "   a2 = [1]\n",
    "   start = time.time()\n",
    "   data_centered3 = centering_with_numpy(columns(x))\n",
    "   end = time.time()\n",
    "   run2 = end - start\n",
    " return a2"
   ]
  },
  {
   "cell_type": "code",
   "execution_count": 234,
   "metadata": {},
   "outputs": [
    {
     "data": {
      "text/plain": [
       "<matplotlib.legend.Legend at 0x205e44a20e0>"
      ]
     },
     "execution_count": 234,
     "metadata": {},
     "output_type": "execute_result"
    },
    {
     "data": {
      "image/png": "[encoded data removed]",
      "text/plain": [
       "<Figure size 640x480 with 1 Axes>"
      ]
     },
     "metadata": {},
     "output_type": "display_data"
    }
   ],
   "source": [
    "import matplotlib.pyplot as plt\n",
    "x1 = np.linspace(2, 1000, 1, endpoint=True)\n",
    "\n",
    "y1 = ex1()\n",
    "y2 = ex2()\n",
    "plt.plot(x1,y1,label='First Line')\n",
    "plt.plot(x1,y2,label='Second Line')\n",
    "plt.legend()\n"
   ]
  }
 ],
 "metadata": {
  "kernelspec": {
   "display_name": "Python 3.10.6 64-bit",
   "language": "python",
   "name": "python3"
  },
  "language_info": {
   "codemirror_mode": {
    "name": "ipython",
    "version": 3
   },
   "file_extension": ".py",
   "mimetype": "text/x-python",
   "name": "python",
   "nbconvert_exporter": "python",
   "pygments_lexer": "ipython3",
   "version": "3.10.6"
  },
  "orig_nbformat": 4,
  "vscode": {
   "interpreter": {
    "hash": "369f2c481f4da34e4445cda3fffd2e751bd1c4d706f27375911949ba6bb62e1c"
   }
  }
 },
 "nbformat": 4,
 "nbformat_minor": 2
}
