{
 "cells": [
  {
   "cell_type": "markdown",
   "metadata": {},
   "source": [
    "# Monster vs Mouse vs something else"
   ]
  },
  {
   "cell_type": "code",
   "execution_count": null,
   "metadata": {},
   "outputs": [],
   "source": [
    "from random import random as rand"
   ]
  },
  {
   "cell_type": "markdown",
   "metadata": {},
   "source": [
    "## Set up the model"
   ]
  },
  {
   "cell_type": "code",
   "execution_count": null,
   "metadata": {},
   "outputs": [],
   "source": [
    "# (prior) probabilities of monster (M) vs mouse (m) vs something else (e)\n",
    "p_M = 1e-3              # p(M)\n",
    "p_m = 0.5               # p(m)\n",
    "p_e = 1.0 - p_M - p_m   # p(e)\n",
    "assert p_e >= 0, \"the sum of the M and m options must not be larger than one\""
   ]
  },
  {
   "cell_type": "code",
   "execution_count": null,
   "metadata": {},
   "outputs": [],
   "source": [
    "# (conditional) probabilities of noise (n) given that there is ...\n",
    "p_n_M = 0.99            # p(n|M)\n",
    "p_n_m = 0.2             # p(n|m)\n",
    "p_n_e = 0.1             # p(n|e)\n",
    "# Question: why do they not have to sum up to one?"
   ]
  },
  {
   "cell_type": "code",
   "execution_count": null,
   "metadata": {},
   "outputs": [],
   "source": [
    "# what is the (joint) probability of having noise and ...\n",
    "p_nM = p_n_M * p_M      # ... a monster,      p(n,M) = p(n|M) p(M)\n",
    "p_nm = p_n_m * p_m      # ... a mouse,        p(n,m) = p(n|m) p(m)\n",
    "p_ne = p_n_e * p_e      # ... something else, p(n,e) = p(n|e) p(e)\n",
    "print(f\"p(n,M) = {p_nM}\")\n",
    "print(f\"p(n,m) = {p_nm}\")\n",
    "print(f\"p(n,e) = {p_ne}\")"
   ]
  },
  {
   "cell_type": "code",
   "execution_count": null,
   "metadata": {},
   "outputs": [],
   "source": [
    "# what is the probability of having noise\n",
    "p_n = p_nM + p_nm + p_ne     # p(n) = p(n,M) + p(n,m) + p(n,e)\n",
    "print(f\"p(n) = {p_n}\")"
   ]
  },
  {
   "cell_type": "code",
   "execution_count": null,
   "metadata": {
    "scrolled": true
   },
   "outputs": [],
   "source": [
    "# implement Bayes' rule\n",
    "def Bayes_rule(prior, likelihood, evidence):\n",
    "    return prior * likelihood / evidence"
   ]
  },
  {
   "cell_type": "code",
   "execution_count": null,
   "metadata": {},
   "outputs": [],
   "source": [
    "# what is the (posterior) probability of having a ... given that we hear noise\n",
    "p_M_n = Bayes_rule(p_M, p_n_M, p_n)     # p(M|n) = p(M) p(n|M) / p(n)\n",
    "p_m_n = Bayes_rule(p_m, p_n_m, p_n)     # p(m|n) = p(m) p(n|m) / p(n)\n",
    "p_e_n = Bayes_rule(p_e, p_n_e, p_n)     # p(e|n) = p(e) p(n|e) / p(n)\n",
    "print(f\"p(M|n) = {p_M_n}\")\n",
    "print(f\"p(m|n) = {p_m_n}\")\n",
    "print(f\"p(e|n) = {p_e_n}\")"
   ]
  },
  {
   "cell_type": "markdown",
   "metadata": {},
   "source": [
    "## Sample from the model"
   ]
  },
  {
   "cell_type": "code",
   "execution_count": null,
   "metadata": {},
   "outputs": [],
   "source": [
    "# implement a coin flip\n",
    "def flip(theta):\n",
    "    # flip a coin with parameter theta\n",
    "    # theta is the probability of True\n",
    "    return rand() < theta"
   ]
  },
  {
   "cell_type": "code",
   "execution_count": null,
   "metadata": {},
   "outputs": [],
   "source": [
    "# sample\n",
    "def sample():\n",
    "    z = rand()    # a random number between 0.0 and 1.0\n",
    "    if z < p_M:\n",
    "        s = 'a Monster is under the bed'\n",
    "        n = flip(p_n_M)\n",
    "    elif z < p_M + p_m:\n",
    "        s = 'a mouse is under the bed'\n",
    "        n = flip(p_n_m)\n",
    "    else:\n",
    "        s = 'something else is under the bed'\n",
    "        n = flip(p_n_e)\n",
    "    if n:\n",
    "        s += ' and made some noise!'\n",
    "    else:\n",
    "        s += ', but it is quiet.'\n",
    "    return s\n",
    "# why are we not using `flip` to sample Monster vs mouse vs something else?"
   ]
  },
  {
   "cell_type": "code",
   "execution_count": null,
   "metadata": {},
   "outputs": [],
   "source": [
    "for i in range(50):\n",
    "    print(sample())"
   ]
  },
  {
   "cell_type": "code",
   "execution_count": null,
   "metadata": {},
   "outputs": [],
   "source": []
  }
 ],
 "metadata": {
  "kernelspec": {
   "display_name": "Python 3",
   "language": "python",
   "name": "python3"
  },
  "language_info": {
   "codemirror_mode": {
    "name": "ipython",
    "version": 3
   },
   "file_extension": ".py",
   "mimetype": "text/x-python",
   "name": "python",
   "nbconvert_exporter": "python",
   "pygments_lexer": "ipython3",
   "version": "3.8.10"
  }
 },
 "nbformat": 4,
 "nbformat_minor": 5
}
