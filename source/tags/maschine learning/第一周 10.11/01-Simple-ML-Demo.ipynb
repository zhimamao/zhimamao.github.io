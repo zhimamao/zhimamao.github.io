{
 "cells": [
  {
   "cell_type": "markdown",
   "id": "9a903162",
   "metadata": {},
   "source": [
    "# Simple Machine Learning demo"
   ]
  },
  {
   "cell_type": "code",
   "execution_count": null,
   "id": "2fcd4908",
   "metadata": {},
   "outputs": [],
   "source": [
    "from numpy                   import hstack, vstack, mean\n",
    "from sklearn.model_selection import train_test_split\n",
    "from plotly.express          import scatter, scatter_3d\n",
    "from sklearn.datasets        import load_iris\n",
    "from sklearn.neighbors       import KNeighborsClassifier\n",
    "from sklearn.linear_model    import LinearRegression\n",
    "from sklearn.cluster         import KMeans\n",
    "from sklearn.decomposition   import PCA"
   ]
  },
  {
   "cell_type": "code",
   "execution_count": null,
   "id": "0b8714a7",
   "metadata": {},
   "outputs": [],
   "source": [
    "# load the iris data set\n",
    "iris    = load_iris()\n",
    "x       = iris.data\n",
    "x_names = iris.feature_names\n",
    "y       = iris.target\n",
    "y_names = iris.target_names"
   ]
  },
  {
   "cell_type": "code",
   "execution_count": null,
   "id": "45d15640",
   "metadata": {},
   "outputs": [],
   "source": [
    "# visualize the data\n",
    "def show_iris(x, y, labels=None, symbol_label=None, **kwargs):\n",
    "    i, j, k = 2, 1, 0          # choose some coordinates\n",
    "    if labels is None:\n",
    "        labels = {'x':x_names[i], 'y':x_names[j], 'z':x_names[k], \n",
    "                  'color':'species', 'symbol': symbol_label}\n",
    "    fig = scatter_3d(x   = x[:,i],       # x axis of plot\n",
    "                     y   = x[:,j],       # y axis of plot\n",
    "                     z   = x[:,k],       # z axis of plot\n",
    "                     color  = [y_names[n] for n in y],\n",
    "                     labels = labels,\n",
    "                     **kwargs)\n",
    "    fig['layout']['scene']['aspectmode'] = \"data\"\n",
    "    return fig\n",
    "show_iris(x, y)"
   ]
  },
  {
   "cell_type": "code",
   "execution_count": null,
   "id": "a4f2dc66",
   "metadata": {},
   "outputs": [],
   "source": [
    "# split it into training and testing sets\n",
    "x_train, x_test, y_train, y_test = train_test_split(x, y, test_size=0.5, random_state=42)\n",
    "x_all = vstack([x_train, x_test])    # first comes the train, then the test examples\n",
    "y_all = hstack([y_train, y_test])\n",
    "train_test = x_train.shape[0]*['train'] + x_test.shape[0]*['test']"
   ]
  },
  {
   "cell_type": "code",
   "execution_count": null,
   "id": "42bf6177",
   "metadata": {},
   "outputs": [],
   "source": [
    "x_train.shape"
   ]
  },
  {
   "cell_type": "code",
   "execution_count": null,
   "id": "3c88812b",
   "metadata": {},
   "outputs": [],
   "source": [
    "# visualize the data\n",
    "show_iris(x_all, y_all, \n",
    "          symbol          = train_test, \n",
    "          symbol_sequence = ['circle', 'circle-open'],\n",
    "          symbol_label    = 'set')"
   ]
  },
  {
   "cell_type": "markdown",
   "id": "23065e62",
   "metadata": {},
   "source": [
    "## Classification (supervised learning)\n",
    "\n",
    "If the output set is discrete and available for training, we have a classification problem."
   ]
  },
  {
   "cell_type": "code",
   "execution_count": null,
   "id": "1508a6b8",
   "metadata": {},
   "outputs": [],
   "source": [
    "# predict the species from the measure petal/sepal lengths\n",
    "# input = x_train, output = y_train\n",
    "nn = KNeighborsClassifier(n_neighbors=1)     # \n",
    "nn.fit(x_train, y_train)                     # learns the parameters"
   ]
  },
  {
   "cell_type": "code",
   "execution_count": null,
   "id": "4a3eb416",
   "metadata": {},
   "outputs": [],
   "source": [
    "# calculate the train accuracy\n",
    "correct_train = nn.predict(x_train) == y_train\n",
    "print(correct_train.mean())\n",
    "show_iris(x_train, y_train,\n",
    "          symbol          = correct_train,\n",
    "          symbol_sequence = ['circle', 'x'],\n",
    "          symbol_label    = 'correct?',\n",
    "          title = 'training')"
   ]
  },
  {
   "cell_type": "code",
   "execution_count": null,
   "id": "57d200f0",
   "metadata": {},
   "outputs": [],
   "source": [
    "# calculate the test accuracy\n",
    "correct_test = nn.predict(x_test) == y_test\n",
    "print(correct_test.mean())\n",
    "show_iris(x_test, y_test,\n",
    "          symbol          = correct_test,\n",
    "          symbol_sequence = ['circle', 'x'],\n",
    "          symbol_label    = 'correct?',\n",
    "          title='test set')"
   ]
  },
  {
   "cell_type": "markdown",
   "id": "af0a7d39",
   "metadata": {},
   "source": [
    "## Regression (supervised learning)\n",
    "\n",
    "If the output set is continuous and available for training, we have a regression problem."
   ]
  },
  {
   "cell_type": "code",
   "execution_count": null,
   "id": "02c6a513",
   "metadata": {},
   "outputs": [],
   "source": [
    "# predict one of the measured lengths from the others\n",
    "# input = x_train[:3], output = xtrain[3]\n",
    "lr = LinearRegression()\n",
    "lr.fit(x_train[:,:3], x_train[:,3])   # predict last from previous coordinates\n",
    "print(lr.coef_)\n",
    "print(lr.intercept_)"
   ]
  },
  {
   "cell_type": "code",
   "execution_count": null,
   "id": "0a9a41d3",
   "metadata": {},
   "outputs": [],
   "source": [
    "# calculate the train error\n",
    "mean((lr.predict(x_train[:,:3]) - x_train[:,3])**2)"
   ]
  },
  {
   "cell_type": "code",
   "execution_count": null,
   "id": "b08e5ad0",
   "metadata": {},
   "outputs": [],
   "source": [
    "# calculate the test error\n",
    "mean((lr.predict(x_test[:,:3]) - x_test[:,3])**2)"
   ]
  },
  {
   "cell_type": "markdown",
   "id": "430a730e",
   "metadata": {},
   "source": [
    "## Clustering (unsupervised learning)\n",
    "\n",
    "If the output set is discrete and not available for training, we have a clustering problem."
   ]
  },
  {
   "cell_type": "code",
   "execution_count": null,
   "id": "548de708",
   "metadata": {},
   "outputs": [],
   "source": [
    "# invent clusters that act like labels\n",
    "km = KMeans(n_clusters=3)\n",
    "km.fit(x_train)\n",
    "z_train = km.predict(x_train)\n",
    "z_test  = km.predict(x_test)"
   ]
  },
  {
   "cell_type": "code",
   "execution_count": null,
   "id": "d3e440c4",
   "metadata": {},
   "outputs": [],
   "source": [
    "show_iris(x_train, y_train, symbol = z_train, symbol_label = 'cluster', title='training set')"
   ]
  },
  {
   "cell_type": "markdown",
   "id": "88cf9ba0",
   "metadata": {},
   "source": [
    "## PCA (unsupervised learning)\n",
    "\n",
    "If the output set is continuous and not available for training, we have a dimensionality reduction problem."
   ]
  },
  {
   "cell_type": "code",
   "execution_count": null,
   "id": "d313004f",
   "metadata": {},
   "outputs": [],
   "source": [
    "pca = PCA(n_components=3)\n",
    "pca.fit(x_train)\n",
    "print(pca.explained_variance_ratio_)\n",
    "z_train = pca.transform(x_train)\n",
    "z_test  = pca.transform(x_test)"
   ]
  },
  {
   "cell_type": "code",
   "execution_count": null,
   "id": "85c6d575",
   "metadata": {},
   "outputs": [],
   "source": [
    "show_iris(z_train, y_train, labels={})"
   ]
  },
  {
   "cell_type": "code",
   "execution_count": null,
   "id": "73f6ded8",
   "metadata": {},
   "outputs": [],
   "source": []
  }
 ],
 "metadata": {
  "kernelspec": {
   "display_name": "Python 3",
   "language": "python",
   "name": "python3"
  },
  "language_info": {
   "codemirror_mode": {
    "name": "ipython",
    "version": 3
   },
   "file_extension": ".py",
   "mimetype": "text/x-python",
   "name": "python",
   "nbconvert_exporter": "python",
   "pygments_lexer": "ipython3",
   "version": "3.9.6"
  }
 },
 "nbformat": 4,
 "nbformat_minor": 5
}
