{
 "cells": [
  {
   "cell_type": "markdown",
   "id": "e8fcd437",
   "metadata": {},
   "source": [
    "# A class for Gaussian distributed random vectors\n",
    "A vector with a covariance matrix (error bars along the diagonal)."
   ]
  },
  {
   "cell_type": "code",
   "execution_count": 1,
   "id": "7c93efc0",
   "metadata": {},
   "outputs": [],
   "source": [
    "from numpy        import array, mean, cov, isscalar, asarray\n",
    "from numpy.linalg import cholesky, inv\n",
    "from numpy.random import randn"
   ]
  },
  {
   "cell_type": "markdown",
   "id": "a59fc256",
   "metadata": {},
   "source": [
    "Some relevant infos about how to implement it correctly:\n",
    "\n",
    "* why to subclass `ndarray`: \n",
    "  https://stackoverflow.com/questions/38229953/array-and-rmul-operator-in-python-numpy\n",
    "* why to implement `__new__`:\n",
    "  https://numpy.org/doc/stable/user/basics.subclassing.html\n",
    "\n",
    "Here we keep it a bit hacky..."
   ]
  },
  {
   "cell_type": "code",
   "execution_count": 2,
   "id": "8f3777f9",
   "metadata": {},
   "outputs": [],
   "source": [
    "# helper functions for slicing of two-D arrays\n",
    "def pick2(A, idx0, idx1=None):\n",
    "    if idx1 is None:\n",
    "        idx1 = idx0\n",
    "    idx0 = [[i] for i in idx0]   # weird numpy slicing\n",
    "    # https://stackoverflow.com/questions/4257394/slicing-of-a-numpy-2d-array-or-how-do-i-extract-an-mxm-submatrix-from-an-nxn-ar\n",
    "    return A[idx0, idx1]\n",
    "\n",
    "def inverse_range(l, idx):\n",
    "    return [i for i in range(l) if i not in idx]"
   ]
  },
  {
   "cell_type": "code",
   "execution_count": 3,
   "id": "5de46a49",
   "metadata": {},
   "outputs": [],
   "source": [
    "class GaussianRV():\n",
    "    \n",
    "    def __init__(self, mu, Sigma):\n",
    "        if isscalar(mu):\n",
    "            mu = asarray([[mu]])\n",
    "        if isscalar(Sigma):\n",
    "            Sigma = asarray([[Sigma]])\n",
    "        self.mu    = mu         # a vector\n",
    "        self.Sigma = Sigma      # must be a matrix\n",
    "        self.L     = cholesky(Sigma)   # L == sqrt(Sigma)\n",
    "        \n",
    "    def __repr__(self):\n",
    "        s = f\"GaussianRV of shape {self.mu.shape}\"\n",
    "        if self.mu.shape[0] < 7:\n",
    "            s += f\"\\nparameter mu    = \\n{self.mu}\"\n",
    "            s += f\"\\nparameter Sigma = \\n{self.Sigma}\"\n",
    "        return s\n",
    "    \n",
    "    def __add__(self, other):\n",
    "        # overload self + other\n",
    "        if isinstance(other, GaussianRV):\n",
    "            # adding another GaussianRV\n",
    "            return GaussianRV(self.mu    + other.mu, \n",
    "                              self.Sigma + other.Sigma)\n",
    "        else:\n",
    "            # adding a constant\n",
    "            return GaussianRV(self.mu + other, self.Sigma)\n",
    "    \n",
    "    def __minus__(self, other):\n",
    "        # overload self - other\n",
    "        # note that the variances are added\n",
    "        return GaussianRV(self.mu    - other.mu,\n",
    "                          self.Sigma + other.Sigma)\n",
    "    \n",
    "    def __mul__(self, other):\n",
    "        # for scalar multiplication\n",
    "        # overload self * other\n",
    "        return GaussianRV(other*self.mu,\n",
    "                          other*other*self.Sigma)\n",
    "        \n",
    "    def __rmul__(self, other):\n",
    "        # overload other * self\n",
    "        return self * other\n",
    "    \n",
    "    def sample(self, n=1):\n",
    "        return self.L @ randn(self.mu.shape[0], n) + self.mu\n",
    "\n",
    "    def lin_trafo(self, A, b=None):\n",
    "        # linear transformation of a Gaussian\n",
    "        Y = GaussianRV(A @ self.mu, \n",
    "                       A @ self.Sigma @ A.T)\n",
    "        if b is not None:\n",
    "            Y = Y + b\n",
    "        return Y\n",
    "        \n",
    "    def sum(self, keep_idx):\n",
    "        # 'keep_idx' contains the indices to keep,\n",
    "        # i.e. all others are summed out\n",
    "                return GaussianRV(mu[keep_idx], pick2(Sigma, keep_idx))\n",
    "        \n",
    "    def cond(self, cond_idx, cond_values):\n",
    "        # let's use the notation of section06/slide21\n",
    "        assert (cond_values.shape == self.mu[cond_idx].shape), \"shape of conditional does not match\"\n",
    "        keep_idx = inverse_range(self.mu.shape[0], cond_idx)\n",
    "        mu, nu   = self.mu[keep_idx], self.mu[cond_idx]\n",
    "        print(mu)\n",
    "        print(nu)\n",
    "        A, C     = pick2(Sigma, keep_idx), pick2(Sigma, cond_idx)\n",
    "        B        = pick2(Sigma, keep_idx, cond_idx)\n",
    "        return GaussianRV(mu + B @ inv(C) @ (cond_value - nu),  # cond mean\n",
    "                          A  - B @ inv(C) @ B.T)                # cond var\n"
   ]
  },
  {
   "cell_type": "code",
   "execution_count": 4,
   "id": "063e6f7d",
   "metadata": {},
   "outputs": [
    {
     "name": "stdout",
     "output_type": "stream",
     "text": [
      "GaussianRV of shape (5, 1)\n",
      "parameter mu    = \n",
      "[[ 0.66267148]\n",
      " [ 0.27206714]\n",
      " [ 0.8422861 ]\n",
      " [ 1.37390099]\n",
      " [-0.77992438]]\n",
      "parameter Sigma = \n",
      "[[ 3.80043127  1.80154868 -1.7010485   1.49624942 -0.46830552]\n",
      " [ 1.80154868  1.38705336 -1.84554389  0.63643428  0.16455748]\n",
      " [-1.7010485  -1.84554389  7.19450202 -0.42300071  2.39059072]\n",
      " [ 1.49624942  0.63643428 -0.42300071  1.90598387  0.1332269 ]\n",
      " [-0.46830552  0.16455748  2.39059072  0.1332269   3.14668367]]\n"
     ]
    }
   ],
   "source": [
    "# test\n",
    "mu    = randn(5,1)\n",
    "A     = randn(5,5)\n",
    "Sigma = A@A.T   # symmetrize A\n",
    "X     = GaussianRV(mu, Sigma)\n",
    "print(X)"
   ]
  },
  {
   "cell_type": "code",
   "execution_count": 5,
   "id": "f5d01aa3",
   "metadata": {},
   "outputs": [
    {
     "data": {
      "text/plain": [
       "GaussianRV of shape (2, 1)\n",
       "parameter mu    = \n",
       "[[0.66267148]\n",
       " [0.8422861 ]]\n",
       "parameter Sigma = \n",
       "[[ 3.80043127 -1.7010485 ]\n",
       " [-1.7010485   7.19450202]]"
      ]
     },
     "execution_count": 5,
     "metadata": {},
     "output_type": "execute_result"
    }
   ],
   "source": [
    "# sum out some of the coordinates\n",
    "keep_idx = [0, 2]\n",
    "Y = X.sum(keep_idx)\n",
    "Y"
   ]
  },
  {
   "cell_type": "code",
   "execution_count": 6,
   "id": "abe4ebc6",
   "metadata": {},
   "outputs": [
    {
     "name": "stdout",
     "output_type": "stream",
     "text": [
      "[[0.66267148]\n",
      " [0.8422861 ]]\n",
      "[[ 0.27206714]\n",
      " [ 1.37390099]\n",
      " [-0.77992438]]\n",
      "GaussianRV of shape (2, 1)\n",
      "parameter mu    = \n",
      "[[-0.40250683]\n",
      " [ 1.58765277]]\n",
      "parameter Sigma = \n",
      "[[1.02320762 1.10626016]\n",
      " [1.10626016 2.47382562]]\n"
     ]
    }
   ],
   "source": [
    "# condition on a value\n",
    "cond_idx = [1,3,4]\n",
    "cond_value = array([[0.0], [0.0], [0.0]])\n",
    "Z = X.cond(cond_idx, cond_value)\n",
    "print(Z)                   "
   ]
  },
  {
   "cell_type": "code",
   "execution_count": 7,
   "id": "d0085dd7",
   "metadata": {},
   "outputs": [
    {
     "name": "stdout",
     "output_type": "stream",
     "text": [
      "GaussianRV of shape (2, 1)\n",
      "parameter mu    = \n",
      "[[-0.40250683]\n",
      " [ 1.58765277]]\n",
      "parameter Sigma = \n",
      "[[1.02320762 1.10626016]\n",
      " [1.10626016 2.47382562]]\n",
      "empirical parameters\n",
      "[-0.37959812  1.58730226]\n",
      "[[1.01698747 1.08896968]\n",
      " [1.08896968 2.43522268]]\n"
     ]
    }
   ],
   "source": [
    "# sample from the conditional distribution\n",
    "print(Z)\n",
    "z = Z.sample(10000)\n",
    "print('empirical parameters')\n",
    "print(mean(z, axis=1))   # calling `mean` from numpy\n",
    "print(cov(z))            # calling `cov` from numpy"
   ]
  },
  {
   "cell_type": "code",
   "execution_count": 8,
   "id": "55303dd9",
   "metadata": {},
   "outputs": [
    {
     "name": "stdout",
     "output_type": "stream",
     "text": [
      "GaussianRV of shape (3, 1)\n",
      "parameter mu    = \n",
      "[[-1.06848857]\n",
      " [ 3.71381063]\n",
      " [-0.79773508]]\n",
      "parameter Sigma = \n",
      "[[ 35.57624142  30.27095337 -11.05715939]\n",
      " [ 30.27095337  34.64040413 -14.1346694 ]\n",
      " [-11.05715939 -14.1346694    6.77105343]]\n"
     ]
    }
   ],
   "source": [
    "# linear transformation\n",
    "A = randn(3, 5)\n",
    "b = randn(3, 1)\n",
    "Z = X.lin_trafo(A, b)\n",
    "print(Z)"
   ]
  }
 ],
 "metadata": {
  "kernelspec": {
   "display_name": "Python 3",
   "language": "python",
   "name": "python3"
  },
  "language_info": {
   "codemirror_mode": {
    "name": "ipython",
    "version": 3
   },
   "file_extension": ".py",
   "mimetype": "text/x-python",
   "name": "python",
   "nbconvert_exporter": "python",
   "pygments_lexer": "ipython3",
   "version": "3.9.6"
  }
 },
 "nbformat": 4,
 "nbformat_minor": 5
}
